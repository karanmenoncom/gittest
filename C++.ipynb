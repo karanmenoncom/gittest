{
 "cells": [
  {
   "cell_type": "markdown",
   "metadata": {},
   "source": [
    "## To convert temperatures from degree Faherenheit to degree Celsius"
   ]
  },
  {
   "cell_type": "code",
   "execution_count": 1,
   "metadata": {},
   "outputs": [],
   "source": [
    "#include <iostream>"
   ]
  },
  {
   "cell_type": "code",
   "execution_count": 2,
   "metadata": {},
   "outputs": [],
   "source": [
    "using namespace std;"
   ]
  },
  {
   "cell_type": "code",
   "execution_count": 3,
   "metadata": {},
   "outputs": [
    {
     "name": "stdout",
     "output_type": "stream",
     "text": [
      "Hello World!\n"
     ]
    }
   ],
   "source": [
    "cout<<\"Hello World!\"<<endl;"
   ]
  },
  {
   "cell_type": "code",
   "execution_count": 10,
   "metadata": {},
   "outputs": [],
   "source": [
    "float C,F;"
   ]
  },
  {
   "cell_type": "code",
   "execution_count": 8,
   "metadata": {},
   "outputs": [
    {
     "name": "stdout",
     "output_type": "stream",
     "text": [
      "Program to convert temperatures from F to C\n",
      "Enter the degree in Fahrenheit 200\n",
      "The equivalent tenoerature in Celsius is =93"
     ]
    }
   ],
   "source": [
    "\n",
    "cout<<\"Program to convert temperatures from F to C\\n\";\n",
    "cout<<\"Enter the degree in Fahrenheit \";\n",
    "cin>>F;\n",
    "C=5*(F-32)/9;\n",
    "cout<<\"The equivalent tenoerature in Celsius is =\"<<setprecision(2)<<C;\n"
   ]
  },
  {
   "cell_type": "code",
   "execution_count": 11,
   "metadata": {},
   "outputs": [],
   "source": [
    "int num,deno;\n",
    "float sum=0"
   ]
  },
  {
   "cell_type": "code",
   "execution_count": 14,
   "metadata": {},
   "outputs": [
    {
     "name": "stderr",
     "output_type": "stream",
     "text": [
      "\u001b[1minput_line_20:3:48: \u001b[0m\u001b[0;1;31merror: \u001b[0m\u001b[1mexpected ';' in 'for' statement specifier\u001b[0m\n",
      "for (num=1,deno=10,num<=10,deno>=1;num++,deno--);\n",
      "\u001b[0;1;32m                                               ^\n",
      "\u001b[0m\u001b[1minput_line_20:3:49: \u001b[0m\u001b[0;1;35mwarning: \u001b[0m\u001b[1mfor loop has empty body [-Wempty-body]\u001b[0m\n",
      "for (num=1,deno=10,num<=10,deno>=1;num++,deno--);\n",
      "\u001b[0;1;32m                                                ^\n",
      "\u001b[0m\u001b[1minput_line_20:3:49: \u001b[0m\u001b[0;1;30mnote: \u001b[0mput the semicolon on a separate line to silence this warning\u001b[0m\n"
     ]
    },
    {
     "ename": "Interpreter Error",
     "evalue": "",
     "output_type": "error",
     "traceback": [
      "Interpreter Error: "
     ]
    }
   ],
   "source": [
    "cout<<\"SUm of the given series \";\n",
    "for (num=1,deno=10,num<=10,deno>=1;num++,deno--);\n",
    "{cout<<num<<\"/\"<<deno<<\"+\";\n",
    "    sum+=(float)num/deno;}\n",
    "cout<<\"=\"<<setprecision(2)<<sum;"
   ]
  },
  {
   "cell_type": "code",
   "execution_count": null,
   "metadata": {},
   "outputs": [],
   "source": []
  }
 ],
 "metadata": {
  "kernelspec": {
   "display_name": "C++17",
   "language": "C++17",
   "name": "xcpp17"
  },
  "language_info": {
   "codemirror_mode": "text/x-c++src",
   "file_extension": ".cpp",
   "mimetype": "text/x-c++src",
   "name": "c++",
   "version": "17"
  }
 },
 "nbformat": 4,
 "nbformat_minor": 4
}
